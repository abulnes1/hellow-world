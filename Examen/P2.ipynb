{
 "cells": [
  {
   "cell_type": "markdown",
   "metadata": {},
   "source": [
    "# Solución P2 Examen"
   ]
  },
  {
   "cell_type": "markdown",
   "metadata": {},
   "source": [
    "## 2-A\n",
    "\n",
    "Dado el siguiente código, escriba lo que debe contener la variable `m` al finalizar la ejecución."
   ]
  },
  {
   "cell_type": "code",
   "execution_count": 1,
   "metadata": {
    "collapsed": true
   },
   "outputs": [],
   "source": [
    "from functools import reduce\n",
    "\n",
    "p = [[\"0001-11\", \"Quaker, Avena\", 2, 1000],\n",
    "     [\"0010-25\", \"ACE\", 3, 3000],\n",
    "     [\"0105-2A\", \"Livean, sobre\", 20, 200]]\n",
    "\n",
    "off = (3, 0.9)\n",
    "\n",
    "t = list(\n",
    "    map(lambda x: (x[0], x[2]) if x[1] != off[0] else (x[0], x[2] * off[1]), \n",
    "                                map(lambda x: (x[0], x[2], x[2] * x[3]), p)\n",
    "       )\n",
    "    )\n",
    "\n",
    "m = reduce(lambda a,b: a if (a > b) else b, map(lambda x: x[1], t))"
   ]
  },
  {
   "cell_type": "markdown",
   "metadata": {},
   "source": [
    "### Solución"
   ]
  },
  {
   "cell_type": "code",
   "execution_count": 2,
   "metadata": {
    "collapsed": false
   },
   "outputs": [
    {
     "name": "stdout",
     "output_type": "stream",
     "text": [
      "8100.0\n"
     ]
    }
   ],
   "source": [
    "print(m)"
   ]
  },
  {
   "cell_type": "markdown",
   "metadata": {},
   "source": [
    "### Puntaje\n",
    "\n",
    "- Asignar 13 puntos si está correcto.\n",
    "- Si es incorrecto, pero se demuestra entendimiento del código se asigna máximo 5 puntos. Sólo se podrá asignar 6.5 puntos si existe **evidencia clara** de que ocurrió un **único** error de alguno de estos tipos:\n",
    "    - Una comparación errónea (por ejemplo ver el menor de `[10, 9]` y devolver 10).\n",
    "    - Error en los valores iniciales.\n",
    "    - No multiplicar 9000 por 0.9.\n",
    "- Asignar 0 puntos en otro caso."
   ]
  },
  {
   "cell_type": "markdown",
   "metadata": {},
   "source": [
    "## 2-B\n",
    "\n",
    "Escriba la función **multiplicar** y un decorador para esta función, de tal forma que se cumpla el output mostrado en el ejemplo. El decorador recibe 2 argumentos: N y M. La función decorada retorna una lista de N listas, cada una con M elementos. Asuma que la cantidad de elementos de la lista de entrada es igual a N x M"
   ]
  },
  {
   "cell_type": "code",
   "execution_count": null,
   "metadata": {
    "collapsed": false
   },
   "outputs": [],
   "source": [
    "resp = multiplicar([1, 2, 3, 4, 5, 6], [6, 7, 8, 8, 10, 11])\n",
    "print(resp)\n",
    "\n",
    "# Output función no decorada: [6, 14, 24, 32, 50, 66]\n",
    "# Output función decorada (N=3, M=2): [[6, 14], [24, 32], [50, 66]]"
   ]
  },
  {
   "cell_type": "markdown",
   "metadata": {},
   "source": [
    "### Solución"
   ]
  },
  {
   "cell_type": "code",
   "execution_count": 3,
   "metadata": {
    "collapsed": false
   },
   "outputs": [],
   "source": [
    "def decorador(n, m):\n",
    "    def inner(f):\n",
    "        def _inner(a, b):\n",
    "            result = f(a, b)\n",
    "            return [result[x*m:(x+1)*m] for x in range(n)]\n",
    "        return _inner\n",
    "    return inner\n",
    "\n",
    "def multiplicar(a, b):\n",
    "    return [x * y for x, y in zip(a, b)]"
   ]
  },
  {
   "cell_type": "code",
   "execution_count": 4,
   "metadata": {
    "collapsed": false
   },
   "outputs": [
    {
     "name": "stdout",
     "output_type": "stream",
     "text": [
      "Output función no decorada:  [6, 14, 24, 32, 50, 66]\n",
      "Output función decorada (N=3, M=2):  [[6, 14], [24, 32], [50, 66]]\n"
     ]
    }
   ],
   "source": [
    "## Se puede decorar multiplicar directamente... es sólo para mostrar que el ejemplo funciona\n",
    "\n",
    "@decorador(3, 2)\n",
    "def multiplicar_decorado(a, b):\n",
    "    return multiplicar(a, b)\n",
    "\n",
    "resp = multiplicar([1, 2, 3, 4, 5, 6], [6, 7, 8, 8, 10, 11])\n",
    "print(\"Output función no decorada: \", resp)\n",
    "\n",
    "resp_dec = multiplicar_decorado([1, 2, 3, 4, 5, 6], [6, 7, 8, 8, 10, 11])\n",
    "print(\"Output función decorada (N=3, M=2): \", resp_dec)"
   ]
  },
  {
   "cell_type": "markdown",
   "metadata": {},
   "source": [
    "### Puntajes\n",
    "\n",
    "#### Función multiplicar\n",
    "\n",
    "- Si está correcta, otorgar 7 puntos.\n",
    "- Si tiene errores pequeños, otorgar 5 puntos.\n",
    "- Si no se cumple alguno de los casos anteriores, otorgar 0 puntos.\n",
    "\n",
    "#### Decorador\n",
    "\n",
    "| Ítem | Puntaje |\n",
    "|:-----|:--------|\n",
    "|Algoritmo para agrupar la lista de entrada en n grupos de m elementos | 3.5 |\n",
    "|El decorador funciona para un n y m arbitrario si entran n x m elementos | 4.5 |\n",
    "|Total| 8.0 |"
   ]
  },
  {
   "cell_type": "markdown",
   "metadata": {},
   "source": [
    "## 2-C\n",
    "\n",
    "Implemente una función que cada vez que es llamada retorne una nueva combinación `(a, b, c)` de números enteros que cumpla con el Teorema de Pitágoras, donde `a` y `b` son los catetos, y `c` la hipotenusa. Las tuplas deben ser retornadas en orden creciente en cuanto a la suma de sus coeficientes `(a, b, c)`. Si dos tuplas suman lo mismo debe retornarse primero la de menor `a`. Los rangos de `a`, `b` y `c` van entre 1 y 100. Además, cree un `main` donde la función sea llamada 10 veces.\n",
    "\n",
    "### Solución\n",
    "\n",
    "Hay muchas maneras de hacerlo, una es:"
   ]
  },
  {
   "cell_type": "code",
   "execution_count": 13,
   "metadata": {
    "collapsed": true
   },
   "outputs": [],
   "source": [
    "def pitagoras():\n",
    "    calculadas = []\n",
    "    for a in range(1,101):\n",
    "        for b in range(1,101):\n",
    "            for c in range(1,101):\n",
    "                if a**2 + b**2 == c**2:\n",
    "                    calculadas.append( (a,b,c) )\n",
    "    calculadas.sort(key = lambda x: sum(x))\n",
    "    for ret in calculadas:\n",
    "        yield ret"
   ]
  },
  {
   "cell_type": "markdown",
   "metadata": {},
   "source": [
    "Otra forma posible en que no es necesario hacer sort es:"
   ]
  },
  {
   "cell_type": "code",
   "execution_count": 15,
   "metadata": {
    "collapsed": false
   },
   "outputs": [],
   "source": [
    "def pitagoras():\n",
    "    # Suma hasta 300 (Imposible que sea más, aunque puede ser menos)\n",
    "    for suma in range(301):\n",
    "        # C hasta 100\n",
    "        for c in range(1, 101):\n",
    "            # A hasta suma - c - 1 (para que b valga 1 o más)\n",
    "            for a in range(1, suma - c):\n",
    "                b = suma - c - a\n",
    "                # No es necesario ver que a ni b <= 100 porque si no sería mayor que c y no pasa el if de abajo\n",
    "                if a**2 + b**2 == c**2:\n",
    "                    yield a, b, c"
   ]
  },
  {
   "cell_type": "code",
   "execution_count": 16,
   "metadata": {
    "collapsed": false
   },
   "outputs": [
    {
     "name": "stdout",
     "output_type": "stream",
     "text": [
      "(3, 4, 5)\n",
      "(4, 3, 5)\n",
      "(6, 8, 10)\n",
      "(8, 6, 10)\n",
      "(5, 12, 13)\n",
      "(12, 5, 13)\n",
      "(9, 12, 15)\n",
      "(12, 9, 15)\n",
      "(8, 15, 17)\n",
      "(15, 8, 17)\n"
     ]
    }
   ],
   "source": [
    "## Este es el main\n",
    "\n",
    "pit = pitagoras()\n",
    "for _ in range(10):\n",
    "    print(next(pit))"
   ]
  },
  {
   "cell_type": "markdown",
   "metadata": {},
   "source": [
    "### Puntajes\n",
    "\n",
    "| Ítem | Puntaje |\n",
    "|:-----|:--------|\n",
    "|Ocupar un generador | 3 |\n",
    "|La función es capaz de entregar todas las tuplas que cumplan la condición y no entrega ninguna que no la cumpla | 3 |\n",
    "|La función entrega las tuplas en el orden correcto | 3 |\n",
    "|Main| 1 |\n",
    "|Total|10|"
   ]
  }
 ],
 "metadata": {
  "kernelspec": {
   "display_name": "Python 3",
   "language": "python",
   "name": "python3"
  },
  "language_info": {
   "codemirror_mode": {
    "name": "ipython",
    "version": 3
   },
   "file_extension": ".py",
   "mimetype": "text/x-python",
   "name": "python",
   "nbconvert_exporter": "python",
   "pygments_lexer": "ipython3",
   "version": "3.4.3+"
  }
 },
 "nbformat": 4,
 "nbformat_minor": 0
}
